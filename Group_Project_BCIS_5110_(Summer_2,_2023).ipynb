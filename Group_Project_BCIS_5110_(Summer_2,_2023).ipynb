{
  "nbformat": 4,
  "nbformat_minor": 0,
  "metadata": {
    "colab": {
      "provenance": [],
      "authorship_tag": "ABX9TyNFIMaByV2ZaH7msZehev98",
      "include_colab_link": true
    },
    "kernelspec": {
      "name": "python3",
      "display_name": "Python 3"
    },
    "language_info": {
      "name": "python"
    }
  },
  "cells": [
    {
      "cell_type": "markdown",
      "metadata": {
        "id": "view-in-github",
        "colab_type": "text"
      },
      "source": [
        "<a href=\"https://colab.research.google.com/github/rghimre3/BCIS-5110-Programming-for-Business-Analytics/blob/main/Group_Project_BCIS_5110_(Summer_2%2C_2023).ipynb\" target=\"_parent\"><img src=\"https://colab.research.google.com/assets/colab-badge.svg\" alt=\"Open In Colab\"/></a>"
      ]
    },
    {
      "cell_type": "markdown",
      "source": [
        "## Group Name : Group 1\n",
        "\n",
        "**Contributors**\n",
        "1. Ramesh Ghimire\n",
        "2. Avinash Goud Vanga\n",
        "3. Garnet Cameron\n",
        "4. Jose Martinez\n",
        "5. Rachel Campaneria"
      ],
      "metadata": {
        "id": "w9YVkxekI5Zr"
      }
    },
    {
      "cell_type": "code",
      "source": [],
      "metadata": {
        "id": "N4ehnz_RIkV_"
      },
      "execution_count": null,
      "outputs": []
    },
    {
      "cell_type": "markdown",
      "source": [
        "In this assignment, you will work with a dataset consisting of at least 1000 rows and 15 columns, containing 5 to 10 percent missing values. The objective is to practice your Python coding skills while performing data analysis tasks on the given dataset. Formulate ten research questions based on the dataset. These questions should require data analysis and provide meaningful insights into the dataset. You will be working in groups, and each group is required to submit a Python code file that addresses the following topics:\n",
        "\n",
        "Data exploration:\n",
        "Write code to display the shape of the dataset (number of rows and columns).\n",
        "Identify and handle missing values using an appropriate imputation technique.\n",
        "Conditional statements:\n",
        "\n",
        "Implement a code segment that utilizes conditional statements to filter, select, or transform data based on specific conditions.\n",
        "\n",
        "Loop implementation:\n",
        "\n",
        "Write two code implementations that utilize loops to iterate over the dataset, performing a specific task or calculation. One of the implementations should include the use of the break or continue statement.\n",
        "\n",
        "Function definitions:\n",
        "\n",
        "Define at least two functions that operate on the dataset. One of the functions should utilize keyword arguments for flexible parameter passing.\n",
        "\n",
        "Data visualization:\n",
        "\n",
        "Implement at least one code segment that focuses on data visualization using a suitable library such as Matplotlib or Seaborn. Generate visualizations to represent patterns, trends, or relationships in the dataset.\n",
        "Numpy functions:\n",
        "\n",
        "Include at least one code segment that demonstrates the use of Numpy functions for numerical calculations or manipulations on the dataset.\n",
        "\n",
        "Pandas functions:\n",
        "\n",
        "Incorporate at least one code segment that showcases the use of Pandas functions for data manipulation, analysis, or aggregation on the dataset.\n",
        "\n",
        "Important notes:\n",
        "\n",
        "Your Python code file should be well-commented, organized, and easy to understand. Additionally, provide clear explanations of the code segments and the insights gained from the data analysis.\n",
        "The dataset used for this assignment can be selected based on your area of interest or a provided dataset related to a specific domain."
      ],
      "metadata": {
        "id": "s6G1qFIGIgYl"
      }
    },
    {
      "cell_type": "markdown",
      "source": [
        "About the Data\n",
        "\n",
        "FIXME"
      ],
      "metadata": {
        "id": "NSazI3sfK-1R"
      }
    },
    {
      "cell_type": "code",
      "source": [
        "# Data Import\n",
        "FIXME"
      ],
      "metadata": {
        "id": "YROEY92UKtCN"
      },
      "execution_count": null,
      "outputs": []
    },
    {
      "cell_type": "code",
      "source": [
        "# Importing Libraries\n",
        "FIXME"
      ],
      "metadata": {
        "id": "6bEQstQHKwV8"
      },
      "execution_count": null,
      "outputs": []
    },
    {
      "cell_type": "code",
      "source": [
        "#EDA\n",
        "FIXME"
      ],
      "metadata": {
        "id": "_xy746_qK3NA"
      },
      "execution_count": null,
      "outputs": []
    },
    {
      "cell_type": "code",
      "source": [
        "# Vizuliazation\n",
        "FIXME"
      ],
      "metadata": {
        "id": "UeWNfkySK6a9"
      },
      "execution_count": null,
      "outputs": []
    }
  ]
}